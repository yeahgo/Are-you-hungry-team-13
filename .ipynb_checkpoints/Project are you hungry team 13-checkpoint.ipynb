{
 "cells": [
  {
   "cell_type": "code",
   "execution_count": 1,
   "metadata": {
    "collapsed": true
   },
   "outputs": [],
   "source": [
    "from bs4 import BeautifulSoup\n",
    "import re\n",
    "from threading import Thread\n",
    "import urllib\n",
    "import pandas as pd\n",
    "import urllib.request"
   ]
  },
  {
   "cell_type": "code",
   "execution_count": 2,
   "metadata": {
    "collapsed": true
   },
   "outputs": [],
   "source": [
    "#List of yelp urls to scrape\n",
    "#function that will do actual scraping job\n",
    "def scrape(ur):\n",
    "    with urllib.request.urlopen(ur) as url:\n",
    "        html = url.read()\n",
    "    soup = BeautifulSoup(html,\"html.parser\")\n",
    "\n",
    "    retaurant_name = soup.find('h1')\n",
    "    business_info = {}\n",
    "    business_info['restaurant_name']= str(retaurant_name.text.strip().rstrip())\n",
    "    for i in soup.find('div',{'class':'short-def-list'}).findAll('dl'):\n",
    "        key = i.find('dt').text.strip().rstrip()\n",
    "        value = i.find('dd').text.strip().rstrip()\n",
    "        business_info[str(key)]=str(value)\n",
    "    retaurant_address = soup.find('span',itemprop=\"streetAddress\")\n",
    "    business_info['retaurant_address'] = str(retaurant_address.text.strip().rstrip())\n",
    "    restaurant_zipcode = soup.find('span',itemprop=\"postalCode\")\n",
    "    business_info['restaurant_zipcode'] = str(restaurant_zipcode.text.strip().rstrip())\n",
    "    restaurant_reviewcount = soup.find('span',itemprop=\"reviewCount\")\n",
    "    business_info['restaurant_reviewcount'] = str(restaurant_reviewcount.text.strip().rstrip())\n",
    "    return business_info"
   ]
  },
  {
   "cell_type": "code",
   "execution_count": null,
   "metadata": {
    "collapsed": true
   },
   "outputs": [],
   "source": [
    "def get_urls_from_search(term, location, num):\n",
    "    \n",
    "    term = term.replace(' ','+')\n",
    "    location = location.replace(' ','+')\n",
    "    query = 'https://www.yelp.com/search?find_desc='+term+'&find_loc='+location+'&start='+str(num*10)\n",
    "    with urllib.request.urlopen(query) as url:\n",
    "        contents = url.read()\n",
    "    #contents = urllib.urlopen(query).read()\n",
    "    soup = BeautifulSoup(contents, \"html.parser\")\n",
    "    #print(soup)\n",
    "    business_url = []\n",
    "    for result in soup.findAll('a',{'class':'biz-name js-analytics-click'}):\n",
    "        business_url.append(\"http://www.yelp.com\" + result['href'])\n",
    "    return business_url"
   ]
  },
  {
   "cell_type": "code",
   "execution_count": null,
   "metadata": {
    "collapsed": true
   },
   "outputs": [],
   "source": [
    "max_num = 5000\n",
    "urls_set = []\n",
    "for i, loc in enumerate(searchLocations):\n",
    "    # now run for loop with fix location and food type and append urls \n",
    "    # page ranking is based on relevance ranked by yelp\n",
    "    for num in range(0,max_num):\n",
    "        urls = get_urls_from_search('Japanese Food',loc, num)\n",
    "        urls = urls[1:] # 0th link is irrelavant\n",
    "        # len(urls)=0 if the starting page number exceed the maximum possible\n",
    "        if (len(urls) ==0):\n",
    "            break\n",
    "        else:\n",
    "            for i in range(0,len(urls)-1):\n",
    "                urls_set.append(urls[i])\n",
    "    # convert the urls from list to csv file for each location\n",
    "    pd_urls_set = pd.DataFrame(urls_set)\n",
    "    pd_urls_set\n",
    "    pd_urls_set.to_csv(\"urls_set_{0}.csv\".format(loc))"
   ]
  },
  {
   "cell_type": "code",
   "execution_count": null,
   "metadata": {},
   "outputs": [],
   "source": [
    "print('Please enter a restaurant name below, if you have no idea about it, just click return')\n",
    "name=input(\"restaurant name: \")\n",
    "\n",
    "if name=='':\n",
    "    #return the original csv\n",
    "else:\n",
    "    #return the selceted csv"
   ]
  },
  {
   "cell_type": "code",
   "execution_count": null,
   "metadata": {},
   "outputs": [],
   "source": [
    "print('Please enter a restaurant style below, if you have no idea about it, just click return')\n",
    "style=input(\"restaurant name: \")\n",
    "if style=='':\n",
    "    #return the last original csv\n",
    "else:\n",
    "    #return the selected csv"
   ]
  },
  {
   "cell_type": "code",
   "execution_count": null,
   "metadata": {},
   "outputs": [],
   "source": [
    "print('Are you going to eat Lunch, Dinner or Breakfast?, please input Lunch or Dinner, if you have no idea about it, just click return')\n",
    "mealkind=input(\"Lunch, Dinner or Breakfast :\")\n",
    "if mealkind=='':\n",
    "    #return the last original csv\n",
    "else:\n",
    "    #return the selected csv"
   ]
  },
  {
   "cell_type": "code",
   "execution_count": null,
   "metadata": {},
   "outputs": [],
   "source": [
    "print('Want to find a place to drink alcohol? Please enter Full Bar, Beer&Wine Only or No below')\n",
    "alcohol=input(\"alcohol:\")\n",
    "if mealkind=='':\n",
    "    #return the last original csv\n",
    "else:\n",
    "    #return the selected csv"
   ]
  }
 ],
 "metadata": {
  "kernelspec": {
   "display_name": "Python 3",
   "language": "python",
   "name": "python3"
  },
  "language_info": {
   "codemirror_mode": {
    "name": "ipython",
    "version": 3
   },
   "file_extension": ".py",
   "mimetype": "text/x-python",
   "name": "python",
   "nbconvert_exporter": "python",
   "pygments_lexer": "ipython3",
   "version": "3.6.5"
  }
 },
 "nbformat": 4,
 "nbformat_minor": 2
}
