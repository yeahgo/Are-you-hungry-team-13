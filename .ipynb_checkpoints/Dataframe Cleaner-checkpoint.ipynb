{
 "cells": [
  {
   "cell_type": "markdown",
   "metadata": {},
   "source": [
    "Use the following code to clean csv dataframes for different restaurants.\n",
    "\n",
    "Merge the cleaned individual dataframes into the final dataframe as our database."
   ]
  },
  {
   "cell_type": "code",
   "execution_count": 81,
   "metadata": {},
   "outputs": [],
   "source": [
    "import pandas as pd"
   ]
  },
  {
   "cell_type": "code",
   "execution_count": 91,
   "metadata": {},
   "outputs": [
    {
     "data": {
      "text/plain": [
       "(479, 38)"
      ]
     },
     "execution_count": 91,
     "metadata": {},
     "output_type": "execute_result"
    }
   ],
   "source": [
    "df_chinese = pd.read_csv('Chinese_Restaurant.csv', encoding = 'latin1')\n",
    "df_chinese = df_chinese.reindex_axis(sorted(df_chinese.columns), axis=1) # order the column names\n",
    "df_chinese = df_chinese.drop(['Unnamed: 0'],axis=1) # drop irrevalant column\n",
    "df_chinese = df_chinese.drop_duplicates() # drop same restaurants appeared in the search\n",
    "df_chinese ['Source'] = 'Chinese'\n",
    "df_chinese.shape # print shape to make sure column number is correct"
   ]
  },
  {
   "cell_type": "code",
   "execution_count": 92,
   "metadata": {},
   "outputs": [
    {
     "data": {
      "text/plain": [
       "(101, 38)"
      ]
     },
     "execution_count": 92,
     "metadata": {},
     "output_type": "execute_result"
    }
   ],
   "source": [
    "df_spanish = pd.read_csv('Spanish_Restaurant.csv', encoding = 'latin1')\n",
    "df_spanish = df_spanish.reindex_axis(sorted(df_spanish.columns), axis=1)\n",
    "df_spanish = df_spanish.drop(['Unnamed: 0'],axis=1)\n",
    "df_spanish = df_spanish.drop_duplicates()\n",
    "df_spanish ['Source'] = 'Spanish'\n",
    "df_spanish.shape"
   ]
  },
  {
   "cell_type": "code",
   "execution_count": 93,
   "metadata": {},
   "outputs": [
    {
     "data": {
      "text/plain": [
       "(73, 38)"
      ]
     },
     "execution_count": 93,
     "metadata": {},
     "output_type": "execute_result"
    }
   ],
   "source": [
    "df_japanese = pd.read_csv('Japanese_Restaurant.csv', encoding = 'latin1')\n",
    "df_japanese = df_japanese.reindex_axis(sorted(df_japanese.columns), axis=1)\n",
    "df_japanese = df_japanese.drop(['Unnamed: 0'],axis=1)\n",
    "df_japanese = df_japanese.drop_duplicates()\n",
    "df_japanese ['Source'] = 'Japanese'\n",
    "df_japanese.shape"
   ]
  },
  {
   "cell_type": "code",
   "execution_count": 102,
   "metadata": {},
   "outputs": [
    {
     "data": {
      "text/plain": [
       "(138, 38)"
      ]
     },
     "execution_count": 102,
     "metadata": {},
     "output_type": "execute_result"
    }
   ],
   "source": [
    "df_american = pd.read_csv('American_Restaurant.csv', encoding = 'latin1')\n",
    "df_american = df_american.reindex_axis(sorted(df_american.columns), axis=1)\n",
    "df_american = df_american.drop(['Unnamed: 0'],axis=1)\n",
    "df_american = df_american.drop_duplicates()\n",
    "df_american ['Source'] = 'American'\n",
    "df_american.shape"
   ]
  },
  {
   "cell_type": "code",
   "execution_count": 100,
   "metadata": {},
   "outputs": [
    {
     "data": {
      "text/plain": [
       "(653, 38)"
      ]
     },
     "execution_count": 100,
     "metadata": {},
     "output_type": "execute_result"
    }
   ],
   "source": [
    "df_final = df_chinese.copy()\n",
    "df_final = pd.concat([df_chinese, df_japanese, df_spanish, df_american, ])\n",
    "df_final = df_final.drop_duplicates()\n",
    "df_final.shape"
   ]
  },
  {
   "cell_type": "code",
   "execution_count": null,
   "metadata": {
    "collapsed": true
   },
   "outputs": [],
   "source": [
    "final_df"
   ]
  },
  {
   "cell_type": "code",
   "execution_count": 19,
   "metadata": {},
   "outputs": [
    {
     "data": {
      "text/plain": [
       "37"
      ]
     },
     "execution_count": 19,
     "metadata": {},
     "output_type": "execute_result"
    }
   ],
   "source": [
    "header=['restaurant_name', 'retaurant_address', 'restaurant_zipcode', 'restaurant_reviewcount', 'restaurant_rating', 'restaurant_neighobrhood', 'Hygiene_score', 'price_range', 'Liked by Vegetarians', 'Takes Reservations', 'Delivery', 'Take-out', 'Accepts Credit Cards', 'Accepts Bitcoin', 'Parking', 'Bike Parking', 'Wheelchair Accessible', 'Good for Kids', 'Good for Groups', 'Attire', 'Noise Level', 'Alcohol', 'Happy Hour', 'Outdoor Seating', 'Wi-Fi', 'Has TV', 'Dogs Allowed', 'Waiter Service', 'Caters', 'Category', 'Has Soy-free Options', 'Has Dairy-free Options', 'Liked by Vegans', 'Has Gluten-free Options', 'Good For', 'Ambience', 'Gender Neutral Restrooms']\n",
    "len(header)"
   ]
  },
  {
   "cell_type": "code",
   "execution_count": 50,
   "metadata": {},
   "outputs": [
    {
     "data": {
      "text/plain": [
       "Index(['Unnamed: 0', 'restaurant_name', 'retaurant_address',\n",
       "       'restaurant_zipcode', 'restaurant_reviewcount', 'restaurant_rating',\n",
       "       'restaurant_neighobrhood', 'Hygiene_score', 'price_range',\n",
       "       'Liked by Vegetarians', 'Takes Reservations', 'Delivery', 'Take-out',\n",
       "       'Accepts Credit Cards', 'Accepts Bitcoin', 'Parking', 'Bike Parking',\n",
       "       'Wheelchair Accessible', 'Good for Kids', 'Good for Groups', 'Attire',\n",
       "       'Noise Level', 'Alcohol', 'Happy Hour', 'Outdoor Seating', 'Wi-Fi',\n",
       "       'Has TV', 'Dogs Allowed', 'Waiter Service', 'Caters', 'Category',\n",
       "       'Has Soy-free Options', 'Has Dairy-free Options', 'Liked by Vegans',\n",
       "       'Has Gluten-free Options', 'Good For', 'Ambience',\n",
       "       'Gender Neutral Restrooms'],\n",
       "      dtype='object')"
      ]
     },
     "execution_count": 50,
     "metadata": {},
     "output_type": "execute_result"
    }
   ],
   "source": [
    "pd_japanese = pd.read_csv('Japanese_Restaurant.csv', encoding = 'latin1')\n",
    "pd_japanese.columns"
   ]
  },
  {
   "cell_type": "code",
   "execution_count": 67,
   "metadata": {},
   "outputs": [],
   "source": [
    "df_korean = pd.read_csv('Korean_Restaurant.csv', encoding = 'latin1')"
   ]
  },
  {
   "cell_type": "code",
   "execution_count": 69,
   "metadata": {},
   "outputs": [
    {
     "data": {
      "text/plain": [
       "Index(['Accepts Bitcoin', 'Accepts Credit Cards', 'Alcohol', 'Ambience',\n",
       "       'Attire', 'Bike Parking', 'Category', 'Caters', 'Delivery',\n",
       "       'Dogs Allowed', 'Gender Neutral Restrooms', 'Good For',\n",
       "       'Good for Groups', 'Good for Kids', 'Happy Hour',\n",
       "       'Has Dairy-free Options', 'Has Gluten-free Options',\n",
       "       'Has Soy-free Options', 'Has TV', 'Hygiene_score', 'Liked by Vegans',\n",
       "       'Liked by Vegetarians', 'Noise Level', 'Outdoor Seating', 'Parking',\n",
       "       'Take-out', 'Takes Reservations', 'Waiter Service',\n",
       "       'Wheelchair Accessible', 'Wi-Fi', 'price_range', 'restaurant_name',\n",
       "       'restaurant_rating', 'restaurant_reviewcount', 'restaurant_zipcode',\n",
       "       'retaurant_address'],\n",
       "      dtype='object')"
      ]
     },
     "execution_count": 69,
     "metadata": {},
     "output_type": "execute_result"
    }
   ],
   "source": [
    "df_korean = df_korean.drop(['Unnamed: 0','Accepts Apple Pay','Accepts Google Pay','Best Nights','Coat Check', 'Offers Military Discount', 'Open to All','Good For Dancing', 'Good for Working','Has Kosher Options', 'Has Pool Table','Smoking'],axis=1)\n",
    "df_korean['Category'] = 'Korean'\n",
    "df_korean = df_korean.reindex_axis(sorted(df_korean.columns), axis=1)\n",
    "df_korean.columns"
   ]
  },
  {
   "cell_type": "code",
   "execution_count": null,
   "metadata": {
    "collapsed": true
   },
   "outputs": [],
   "source": []
  }
 ],
 "metadata": {
  "kernelspec": {
   "display_name": "Python 3",
   "language": "python",
   "name": "python3"
  },
  "language_info": {
   "codemirror_mode": {
    "name": "ipython",
    "version": 3
   },
   "file_extension": ".py",
   "mimetype": "text/x-python",
   "name": "python",
   "nbconvert_exporter": "python",
   "pygments_lexer": "ipython3",
   "version": "3.6.7"
  }
 },
 "nbformat": 4,
 "nbformat_minor": 2
}
