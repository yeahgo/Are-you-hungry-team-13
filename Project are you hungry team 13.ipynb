{
 "cells": [
  {
   "cell_type": "markdown",
   "metadata": {},
   "source": [
    "## A Restaurant Recommendation System based on Yelp Information ##"
   ]
  },
  {
   "cell_type": "markdown",
   "metadata": {},
   "source": [
    "**Project Goal**: Create an NYC restaurant information database and use the database to recommend users restaurants which match with their preferences.\n",
    "\n",
    "Users can input features that indicate their preferences and our machine can output top 5 restaurants from as our recommendation for the user.\n",
    "\n",
    "**Steps**:\n"
   ]
  },
  {
   "cell_type": "code",
   "execution_count": 207,
   "metadata": {
    "collapsed": true
   },
   "outputs": [],
   "source": [
    "from bs4 import BeautifulSoup\n",
    "import re\n",
    "from threading import Thread\n",
    "import urllib\n",
    "import pandas as pd\n",
    "import urllib.request\n",
    "import time\n",
    "from random import randint"
   ]
  },
  {
   "cell_type": "code",
   "execution_count": 134,
   "metadata": {
    "collapsed": true
   },
   "outputs": [],
   "source": [
    "opener = urllib.request.build_opener()\n",
    "# IE 9 proved to be the most successful\n",
    "opener.addheaders = [('User-agent', 'IE 9/Windows: Mozilla/5.0 (compatible; MSIE 9.0; Windows NT 6.1; WOW64; Trident/5.0)')]\n",
    "urllib.request.install_opener(opener)"
   ]
  },
  {
   "cell_type": "code",
   "execution_count": 200,
   "metadata": {
    "collapsed": true
   },
   "outputs": [],
   "source": [
    "# Function that will do the scraping job from yelp\n",
    "def scrape(ur):\n",
    "\n",
    "    with urllib.request.urlopen(ur) as url:\n",
    "        html = url.read()\n",
    "    soup = BeautifulSoup(html,\"lxml\")\n",
    "    retaurant_name = soup.find('h1')\n",
    "    \n",
    "    # create a dictionary business info for storing key business features \n",
    "    business_info = {}\n",
    "    business_info['restaurant_name']= str(retaurant_name.text.strip().rstrip())\n",
    "    \n",
    "    if soup.find('span',itemprop=\"streetAddress\") != None:\n",
    "        retaurant_address = soup.find('span',itemprop=\"streetAddress\")\n",
    "        business_info['retaurant_address'] = str(retaurant_address.text.strip().rstrip())\n",
    "    \n",
    "    if soup.find('span',itemprop=\"postalCode\") != None:\n",
    "        restaurant_zipcode = soup.find('span',itemprop=\"postalCode\")\n",
    "        business_info['restaurant_zipcode'] = str(restaurant_zipcode.text.strip().rstrip())\n",
    "    \n",
    "    if soup.find('span',itemprop=\"reviewCount\") != None:\n",
    "        restaurant_reviewcount = soup.find('span',itemprop=\"reviewCount\")\n",
    "        business_info['restaurant_reviewcount'] = str(restaurant_reviewcount.text.strip().rstrip())\n",
    "   \n",
    "    if soup.find(itemprop=\"ratingValue\") != None:\n",
    "        business_info['restaurant_rating'] = soup.find(itemprop=\"ratingValue\").get(\"content\")\n",
    "\n",
    "    if soup.find('span', {'class': 'neighborhood-str-list'}) != None:\n",
    "        neighborhood = soup.find('span', {'class': 'neighborhood-str-list'})\n",
    "        business_info['restaurant_neighobrhood'] = str(neighborhood.text.strip().rstrip())\n",
    "   \n",
    "    if soup.find('dd',{'class':\"nowrap health-score-description\"}) != None:\n",
    "        hygiene_score = soup.find('dd',{'class':\"nowrap health-score-description\"})\n",
    "        business_info['Hygiene_score'] = str(hygiene_score.text.strip().rstrip())\n",
    "        \n",
    "    if soup.find('dd', {'class':\"nowrap price-description\"}) != None:\n",
    "        price_range = soup.find('dd', {'class':\"nowrap price-description\"})\n",
    "        business_info['price_range'] = str(price_range.text.strip().rstrip())\n",
    "   \n",
    "    if soup.find('div',{'class':'short-def-list'}) != None:\n",
    "        for i in soup.find('div',{'class':'short-def-list'}).findAll('dl'):\n",
    "            key = i.find('dt').text.strip().rstrip()\n",
    "            value = i.find('dd').text.strip().rstrip()\n",
    "            business_info[str(key)]=str(value)\n",
    "    \n",
    "    if soup.find(property=\"place:location:latitude\") != None:\n",
    "        business_info['latitude'] = soup.find(property=\"place:location:latitude\").get(\"content\")\n",
    "\n",
    "    if soup.find(property=\"place:location:longitude\") != None:\n",
    "        business_info['longitude'] = soup.find(property=\"place:location:longitude\").get(\"content\")  \n",
    "    \n",
    "    business_info['Category']= ''\n",
    "    if soup.find('span',{'class':'category-str-list'}) != None:\n",
    "        for i in soup.find('span',{'class':'category-str-list'}).findAll('a'):\n",
    "            business_info['Category'] += (str(i.text.strip().rstrip())+'; ')\n",
    "                \n",
    "    return business_info"
   ]
  },
  {
   "cell_type": "code",
   "execution_count": 201,
   "metadata": {},
   "outputs": [
    {
     "name": "stdout",
     "output_type": "stream",
     "text": [
      "{'restaurant_name': 'Blue Ribbon Sushi', 'retaurant_address': '119 Sullivan St', 'restaurant_zipcode': '10012', 'restaurant_reviewcount': '1023', 'restaurant_rating': '4.0', 'restaurant_neighobrhood': 'South Village', 'Hygiene_score': 'A', 'price_range': '$31-60', 'Takes Reservations': 'No', 'Delivery': 'No', 'Take-out': 'Yes', 'Accepts Credit Cards': 'Yes', 'Accepts Apple Pay': 'No', 'Good For': 'Dinner', 'Parking': 'Street', 'Bike Parking': 'Yes', 'Wheelchair Accessible': 'No', 'Good for Kids': 'No', 'Good for Groups': 'Yes', 'Attire': 'Casual', 'Noise Level': 'Average', 'Alcohol': 'Full Bar', 'Outdoor Seating': 'No', 'Wi-Fi': 'No', 'Has TV': 'No', 'Waiter Service': 'Yes', 'Caters': 'No', 'Gender Neutral Restrooms': 'Yes', 'Category': 'Sushi Bars; Japanese; '}\n"
     ]
    }
   ],
   "source": [
    "# Example for the scrape function\n",
    "d = scrape('https://www.yelp.com/biz/blue-ribbon-sushi-new-york?osq=blue+ribbon')\n",
    "print(d)"
   ]
  },
  {
   "cell_type": "code",
   "execution_count": 137,
   "metadata": {
    "collapsed": true
   },
   "outputs": [],
   "source": [
    "# List of yelp urls to scrape\n",
    "def get_urls_from_search(term, location, num):\n",
    "    \n",
    "    term = term.replace(' ','+')\n",
    "    location = location.replace(' ','+')\n",
    "    query = 'https://www.yelp.com/search?find_desc='+term+'&find_loc='+location+'&start='+str(num*10)\n",
    "    with urllib.request.urlopen(query) as url:\n",
    "        contents = url.read()\n",
    "    #contents = urllib.urlopen(query).read()\n",
    "    soup = BeautifulSoup(contents, \"html.parser\")\n",
    "    #print(soup)\n",
    "    business_url = []\n",
    "    for result in soup.findAll('a',{'class':'biz-name js-analytics-click'}):\n",
    "        business_url.append(\"http://www.yelp.com\" + result['href'])\n",
    "    return business_url\n"
   ]
  },
  {
   "cell_type": "code",
   "execution_count": 164,
   "metadata": {
    "collapsed": true
   },
   "outputs": [],
   "source": [
    "# List of all locations\n",
    "# 'Alphabet_City','Battery_Park','Chelsea','Chinatown','Civic_Center','East_Harlem','East_Village','Financial_District','Flatiron','Gramercy','Greenwich_Village','Harlem','Hell\\'s_Kitchen','Inwood','Kips_Bay','Koreatown','Little_Italy','Lower_East_Side','Manhattan_Valley','Marble_Hill','Meatpacking_District','Midtown_East','Midtown_West','Morningside_Heights','Murray_Hill','NoHo','Nolita','Roosevelt_Island','SoHo','South_Street_Seaport','South_Village','Stuyvesant_Town','Theater_District','TriBeCa','Two_Bridges','Union_Square','Upper_East_Side','Upper_West_Side','Washington_Heights','West_Village', 'Yorkville'\n",
    "\n",
    "# Yorkville entirely encompassed by Upper East Side\n",
    "# Theater District entirely encompassed by Midtown West\n",
    "\n",
    "searchLocations = ['Alphabet_City','Battery_Park','Chelsea','Chinatown','Civic_Center','East_Harlem','East_Village','Financial_District','Flatiron','Gramercy','Greenwich_Village','Harlem','Hell\\'s_Kitchen','Inwood','Kips_Bay','Koreatown','Little_Italy','Lower_East_Side','Manhattan_Valley','Marble_Hill','Meatpacking_District','Midtown_East','Midtown_West','Morningside_Heights','Murray_Hill','NoHo','Nolita','Roosevelt_Island','SoHo','South_Street_Seaport','South_Village','Stuyvesant_Town','TriBeCa','Two_Bridges','Union_Square','Upper_East_Side','Upper_West_Side','Washington_Heights','West_Village']\n",
    "\n",
    "#test\n",
    "#searchLocations = ['East_Village', 'Upper_West_Side', 'Chelsea'] "
   ]
  },
  {
   "cell_type": "code",
   "execution_count": 159,
   "metadata": {
    "collapsed": true
   },
   "outputs": [],
   "source": [
    "max_num = 5\n",
    "urls_set = []\n",
    "for i, loc in enumerate(searchLocations):\n",
    "    # now run for loop with fix location and food type and append urls \n",
    "    # page ranking is based on relevance ranked by yelp\n",
    "    for num in range(0,max_num):\n",
    "        urls = get_urls_from_search(\"Japanese restaurants\",loc, num)\n",
    "        urls = urls[1:] # 0th link is irrelavant\n",
    "        # len(urls)=0 if the starting page number exceed the maximum possible\n",
    "        if (len(urls) ==0):\n",
    "            break\n",
    "        else:\n",
    "            for i in range(0,len(urls)-1):\n",
    "                urls_set.append(urls[i])\n",
    "                \n",
    "    # Delays to help reduce queries and reduce the possibility of IP Ban            \n",
    "    time.sleep(5)\n",
    "    #convert the urls from list to csv file for each location\n",
    "    #pd_urls_set = pd.DataFrame(urls_set)\n",
    "    #pd_urls_set.to_csv(\"urls_set_{0}.csv\".format(loc))"
   ]
  },
  {
   "cell_type": "code",
   "execution_count": 160,
   "metadata": {},
   "outputs": [
    {
     "name": "stdout",
     "output_type": "stream",
     "text": [
      "0\n"
     ]
    },
    {
     "data": {
      "text/plain": [
       "[]"
      ]
     },
     "execution_count": 160,
     "metadata": {},
     "output_type": "execute_result"
    }
   ],
   "source": [
    "print(len(urls_set))\n",
    "urls_set"
   ]
  },
  {
   "cell_type": "code",
   "execution_count": 22,
   "metadata": {
    "collapsed": true,
    "scrolled": true
   },
   "outputs": [],
   "source": [
    "info = {} # create a dictionary for srestaurant info\n",
    "for u in urls_set:\n",
    "    url_dict=scrape(u)\n",
    "    for key,value in url_dict.items():\n",
    "        info.setdefault(key,[]).append(value)"
   ]
  },
  {
   "cell_type": "code",
   "execution_count": 121,
   "metadata": {},
   "outputs": [
    {
     "data": {
      "text/plain": [
       "dict_keys(['restaurant_name', 'retaurant_address', 'restaurant_zipcode', 'restaurant_reviewcount', 'restaurant_rating', 'Hygiene_score', 'price_range', 'Takes Reservations', 'Delivery', 'Take-out', 'Accepts Credit Cards', 'Accepts Apple Pay', 'Accepts Google Pay', 'Accepts Bitcoin', 'Good For', 'Parking', 'Bike Parking', 'Wheelchair Accessible', 'Good for Kids', 'Good for Groups', 'Attire', 'Ambience', 'Noise Level', 'Alcohol', 'Happy Hour', 'Outdoor Seating', 'Wi-Fi', 'Has TV', 'Dogs Allowed', 'Waiter Service', 'Caters', 'Gender Neutral Restrooms', 'Has Dairy-free Options', 'Liked by Vegetarians', 'Liked by Vegans', 'Good For Dancing', 'Best Nights', 'Good for Working', 'Has Pool Table', 'Open to All', 'Coat Check', 'Has Soy-free Options', 'Has Gluten-free Options', 'Smoking', 'Has Kosher Options', 'Offers Military Discount'])"
      ]
     },
     "execution_count": 121,
     "metadata": {},
     "output_type": "execute_result"
    }
   ],
   "source": [
    "#header"
   ]
  },
  {
   "cell_type": "code",
   "execution_count": 122,
   "metadata": {
    "collapsed": true
   },
   "outputs": [],
   "source": [
    "header=['restaurant_name', 'retaurant_address', 'restaurant_zipcode', 'restaurant_reviewcount', 'restaurant_rating', 'Hygiene_score', 'price_range', 'Takes Reservations', 'Delivery', 'Take-out', 'Accepts Credit Cards', 'Accepts Apple Pay', 'Accepts Google Pay', 'Accepts Bitcoin', 'Good For', 'Parking', 'Bike Parking', 'Wheelchair Accessible', 'Good for Kids', 'Good for Groups', 'Attire', 'Ambience', 'Noise Level', 'Alcohol', 'Happy Hour', 'Outdoor Seating', 'Wi-Fi', 'Has TV', 'Dogs Allowed', 'Waiter Service', 'Caters', 'Gender Neutral Restrooms', 'Has Dairy-free Options', 'Liked by Vegetarians', 'Liked by Vegans', 'Good For Dancing', 'Best Nights', 'Good for Working', 'Has Pool Table', 'Open to All', 'Coat Check', 'Has Soy-free Options', 'Has Gluten-free Options', 'Smoking', 'Has Kosher Options', 'Offers Military Discount']\n",
    "info={}\n",
    "for u in urls_set:\n",
    "    url_dict=scrape(u)\n",
    "    for i in header:\n",
    "        if i in url_dict.keys():\n",
    "            info.setdefault(i,[]).append(url_dict[i])\n",
    "        else:\n",
    "            info.setdefault(i,[]).append('NA')\n",
    "    # Delays to help reduce queries and reduce the possibility of IP Ban\n",
    "    time.sleep(5)"
   ]
  },
  {
   "cell_type": "code",
   "execution_count": 170,
   "metadata": {
    "collapsed": true
   },
   "outputs": [],
   "source": [
    "final_df_sample=pd.DataFrame(info)\n",
    "#final_df_sample"
   ]
  },
  {
   "cell_type": "code",
   "execution_count": 171,
   "metadata": {
    "collapsed": true
   },
   "outputs": [],
   "source": [
    "final_df_sample.to_csv('sample japnese.csv') # save to csv"
   ]
  },
  {
   "cell_type": "code",
   "execution_count": 155,
   "metadata": {},
   "outputs": [
    {
     "data": {
      "text/html": [
       "<div>\n",
       "<style>\n",
       "    .dataframe thead tr:only-child th {\n",
       "        text-align: right;\n",
       "    }\n",
       "\n",
       "    .dataframe thead th {\n",
       "        text-align: left;\n",
       "    }\n",
       "\n",
       "    .dataframe tbody tr th {\n",
       "        vertical-align: top;\n",
       "    }\n",
       "</style>\n",
       "<table border=\"1\" class=\"dataframe\">\n",
       "  <thead>\n",
       "    <tr style=\"text-align: right;\">\n",
       "      <th></th>\n",
       "      <th>Accepts Apple Pay</th>\n",
       "      <th>Accepts Bitcoin</th>\n",
       "      <th>Accepts Credit Cards</th>\n",
       "      <th>Accepts Google Pay</th>\n",
       "      <th>Alcohol</th>\n",
       "      <th>Ambience</th>\n",
       "      <th>Attire</th>\n",
       "      <th>Best Nights</th>\n",
       "      <th>Bike Parking</th>\n",
       "      <th>Caters</th>\n",
       "      <th>...</th>\n",
       "      <th>Takes Reservations</th>\n",
       "      <th>Waiter Service</th>\n",
       "      <th>Wheelchair Accessible</th>\n",
       "      <th>Wi-Fi</th>\n",
       "      <th>price_range</th>\n",
       "      <th>restaurant_name</th>\n",
       "      <th>restaurant_rating</th>\n",
       "      <th>restaurant_reviewcount</th>\n",
       "      <th>restaurant_zipcode</th>\n",
       "      <th>retaurant_address</th>\n",
       "    </tr>\n",
       "  </thead>\n",
       "  <tbody>\n",
       "    <tr>\n",
       "      <th>0</th>\n",
       "      <td>No</td>\n",
       "      <td>No</td>\n",
       "      <td>Yes</td>\n",
       "      <td>No</td>\n",
       "      <td>Beer &amp; Wine Only</td>\n",
       "      <td>Trendy, Intimate</td>\n",
       "      <td>Casual</td>\n",
       "      <td>NA</td>\n",
       "      <td>No</td>\n",
       "      <td>No</td>\n",
       "      <td>...</td>\n",
       "      <td>No</td>\n",
       "      <td>Yes</td>\n",
       "      <td>No</td>\n",
       "      <td>No</td>\n",
       "      <td>$11-30</td>\n",
       "      <td>Benemon</td>\n",
       "      <td>4.5</td>\n",
       "      <td>432</td>\n",
       "      <td>10003</td>\n",
       "      <td>108 E 4th St</td>\n",
       "    </tr>\n",
       "    <tr>\n",
       "      <th>1</th>\n",
       "      <td>NA</td>\n",
       "      <td>NA</td>\n",
       "      <td>Yes</td>\n",
       "      <td>NA</td>\n",
       "      <td>NA</td>\n",
       "      <td>NA</td>\n",
       "      <td>Casual</td>\n",
       "      <td>NA</td>\n",
       "      <td>NA</td>\n",
       "      <td>NA</td>\n",
       "      <td>...</td>\n",
       "      <td>Yes</td>\n",
       "      <td>Yes</td>\n",
       "      <td>NA</td>\n",
       "      <td>NA</td>\n",
       "      <td>NA</td>\n",
       "      <td>Pado</td>\n",
       "      <td>5.0</td>\n",
       "      <td>14</td>\n",
       "      <td>10003</td>\n",
       "      <td>199 2nd Ave</td>\n",
       "    </tr>\n",
       "    <tr>\n",
       "      <th>2</th>\n",
       "      <td>No</td>\n",
       "      <td>NA</td>\n",
       "      <td>No</td>\n",
       "      <td>No</td>\n",
       "      <td>Beer &amp; Wine Only</td>\n",
       "      <td>Casual</td>\n",
       "      <td>Casual</td>\n",
       "      <td>NA</td>\n",
       "      <td>Yes</td>\n",
       "      <td>No</td>\n",
       "      <td>...</td>\n",
       "      <td>No</td>\n",
       "      <td>Yes</td>\n",
       "      <td>No</td>\n",
       "      <td>No</td>\n",
       "      <td>$11-30</td>\n",
       "      <td>Raku</td>\n",
       "      <td>4.5</td>\n",
       "      <td>776</td>\n",
       "      <td>10003</td>\n",
       "      <td>342 E 6th St</td>\n",
       "    </tr>\n",
       "    <tr>\n",
       "      <th>3</th>\n",
       "      <td>No</td>\n",
       "      <td>NA</td>\n",
       "      <td>Yes</td>\n",
       "      <td>NA</td>\n",
       "      <td>Beer &amp; Wine Only</td>\n",
       "      <td>Casual</td>\n",
       "      <td>Casual</td>\n",
       "      <td>NA</td>\n",
       "      <td>No</td>\n",
       "      <td>No</td>\n",
       "      <td>...</td>\n",
       "      <td>Yes</td>\n",
       "      <td>Yes</td>\n",
       "      <td>No</td>\n",
       "      <td>No</td>\n",
       "      <td>$11-30</td>\n",
       "      <td>Izakaya</td>\n",
       "      <td>4.0</td>\n",
       "      <td>230</td>\n",
       "      <td>10003</td>\n",
       "      <td>326 E 6th St</td>\n",
       "    </tr>\n",
       "    <tr>\n",
       "      <th>4</th>\n",
       "      <td>NA</td>\n",
       "      <td>NA</td>\n",
       "      <td>Yes</td>\n",
       "      <td>NA</td>\n",
       "      <td>Beer &amp; Wine Only</td>\n",
       "      <td>Casual</td>\n",
       "      <td>Casual</td>\n",
       "      <td>NA</td>\n",
       "      <td>Yes</td>\n",
       "      <td>NA</td>\n",
       "      <td>...</td>\n",
       "      <td>No</td>\n",
       "      <td>Yes</td>\n",
       "      <td>NA</td>\n",
       "      <td>No</td>\n",
       "      <td>$11-30</td>\n",
       "      <td>Jintan</td>\n",
       "      <td>4.0</td>\n",
       "      <td>46</td>\n",
       "      <td>10009</td>\n",
       "      <td>10th St &amp; 1st Ave</td>\n",
       "    </tr>\n",
       "  </tbody>\n",
       "</table>\n",
       "<p>5 rows × 46 columns</p>\n",
       "</div>"
      ],
      "text/plain": [
       "  Accepts Apple Pay Accepts Bitcoin Accepts Credit Cards Accepts Google Pay  \\\n",
       "0                No              No                  Yes                 No   \n",
       "1                NA              NA                  Yes                 NA   \n",
       "2                No              NA                   No                 No   \n",
       "3                No              NA                  Yes                 NA   \n",
       "4                NA              NA                  Yes                 NA   \n",
       "\n",
       "            Alcohol          Ambience  Attire Best Nights Bike Parking Caters  \\\n",
       "0  Beer & Wine Only  Trendy, Intimate  Casual          NA           No     No   \n",
       "1                NA                NA  Casual          NA           NA     NA   \n",
       "2  Beer & Wine Only            Casual  Casual          NA          Yes     No   \n",
       "3  Beer & Wine Only            Casual  Casual          NA           No     No   \n",
       "4  Beer & Wine Only            Casual  Casual          NA          Yes     NA   \n",
       "\n",
       "         ...         Takes Reservations Waiter Service Wheelchair Accessible  \\\n",
       "0        ...                         No            Yes                    No   \n",
       "1        ...                        Yes            Yes                    NA   \n",
       "2        ...                         No            Yes                    No   \n",
       "3        ...                        Yes            Yes                    No   \n",
       "4        ...                         No            Yes                    NA   \n",
       "\n",
       "  Wi-Fi price_range restaurant_name restaurant_rating restaurant_reviewcount  \\\n",
       "0    No      $11-30         Benemon               4.5                    432   \n",
       "1    NA          NA            Pado               5.0                     14   \n",
       "2    No      $11-30            Raku               4.5                    776   \n",
       "3    No      $11-30         Izakaya               4.0                    230   \n",
       "4    No      $11-30          Jintan               4.0                     46   \n",
       "\n",
       "  restaurant_zipcode  retaurant_address  \n",
       "0              10003       108 E 4th St  \n",
       "1              10003        199 2nd Ave  \n",
       "2              10003       342 E 6th St  \n",
       "3              10003       326 E 6th St  \n",
       "4              10009  10th St & 1st Ave  \n",
       "\n",
       "[5 rows x 46 columns]"
      ]
     },
     "execution_count": 155,
     "metadata": {},
     "output_type": "execute_result"
    }
   ],
   "source": [
    "len(final_df)\n",
    "final_df.head()"
   ]
  },
  {
   "cell_type": "code",
   "execution_count": 214,
   "metadata": {},
   "outputs": [],
   "source": [
    "max_num = 5\n",
    "urls_set = []\n",
    "for i, loc in enumerate(searchLocations):\n",
    "    # now run for loop with fix location and food type and append urls \n",
    "    # page ranking is based on relevance ranked by yelp\n",
    "    for num in range(0,max_num):\n",
    "        urls = get_urls_from_search(\"Chinese restaurants\",loc, num)\n",
    "        urls = urls[1:] # 0th link is irrelavant\n",
    "        # len(urls)=0 if the starting page number exceed the maximum possible\n",
    "        if (len(urls) ==0):\n",
    "            break\n",
    "        else:\n",
    "            for i in range(0,len(urls)-1):\n",
    "                urls_set.append(urls[i])\n",
    "                \n",
    "    time.sleep(5)\n",
    "    #convert the urls from list to csv file for each location\n",
    "    #pd_urls_set = pd.DataFrame(urls_set)\n",
    "    #pd_urls_set.to_csv(\"urls_set_{0}.csv\".format(loc))"
   ]
  },
  {
   "cell_type": "code",
   "execution_count": 215,
   "metadata": {},
   "outputs": [
    {
     "data": {
      "text/plain": [
       "1311"
      ]
     },
     "execution_count": 215,
     "metadata": {},
     "output_type": "execute_result"
    }
   ],
   "source": [
    "len(urls_set)"
   ]
  },
  {
   "cell_type": "code",
   "execution_count": 216,
   "metadata": {
    "collapsed": true
   },
   "outputs": [],
   "source": [
    "header=['restaurant_name', 'retaurant_address', 'restaurant_zipcode', 'restaurant_reviewcount', 'restaurant_rating', 'restaurant_neighobrhood', 'Hygiene_score', 'price_range', 'Liked by Vegetarians', 'Takes Reservations', 'Delivery', 'Take-out', 'Accepts Credit Cards', 'Accepts Bitcoin', 'Parking', 'Bike Parking', 'Wheelchair Accessible', 'Good for Kids', 'Good for Groups', 'Attire', 'Noise Level', 'Alcohol', 'Happy Hour', 'Outdoor Seating', 'Wi-Fi', 'Has TV', 'Dogs Allowed', 'Waiter Service', 'Caters', 'Category', 'Has Soy-free Options', 'Has Dairy-free Options', 'Liked by Vegans', 'Has Gluten-free Options', 'Good For', 'Ambience', 'Gender Neutral Restrooms']\n",
    "info={}\n",
    "for u in urls_set[:30]:\n",
    "    url_dict=scrape(u)\n",
    "    for i in header:\n",
    "        if i in url_dict.keys():\n",
    "            info.setdefault(i,[]).append(url_dict[i])\n",
    "        else:\n",
    "            info.setdefault(i,[]).append('NA')\n",
    "     # Delays to help reduce queries and reduce the possibility of IP Ban\n",
    "    time.sleep(2)"
   ]
  },
  {
   "cell_type": "code",
   "execution_count": 218,
   "metadata": {},
   "outputs": [],
   "source": [
    "df = pd.DataFrame(info)\n",
    "df.to_csv('sample chinese.csv') "
   ]
  },
  {
   "cell_type": "code",
   "execution_count": 219,
   "metadata": {},
   "outputs": [
    {
     "data": {
      "text/html": [
       "<div>\n",
       "<style>\n",
       "    .dataframe thead tr:only-child th {\n",
       "        text-align: right;\n",
       "    }\n",
       "\n",
       "    .dataframe thead th {\n",
       "        text-align: left;\n",
       "    }\n",
       "\n",
       "    .dataframe tbody tr th {\n",
       "        vertical-align: top;\n",
       "    }\n",
       "</style>\n",
       "<table border=\"1\" class=\"dataframe\">\n",
       "  <thead>\n",
       "    <tr style=\"text-align: right;\">\n",
       "      <th></th>\n",
       "      <th>Accepts Bitcoin</th>\n",
       "      <th>Accepts Credit Cards</th>\n",
       "      <th>Alcohol</th>\n",
       "      <th>Ambience</th>\n",
       "      <th>Attire</th>\n",
       "      <th>Bike Parking</th>\n",
       "      <th>Category</th>\n",
       "      <th>Caters</th>\n",
       "      <th>Delivery</th>\n",
       "      <th>Dogs Allowed</th>\n",
       "      <th>...</th>\n",
       "      <th>Waiter Service</th>\n",
       "      <th>Wheelchair Accessible</th>\n",
       "      <th>Wi-Fi</th>\n",
       "      <th>price_range</th>\n",
       "      <th>restaurant_name</th>\n",
       "      <th>restaurant_neighobrhood</th>\n",
       "      <th>restaurant_rating</th>\n",
       "      <th>restaurant_reviewcount</th>\n",
       "      <th>restaurant_zipcode</th>\n",
       "      <th>retaurant_address</th>\n",
       "    </tr>\n",
       "  </thead>\n",
       "  <tbody>\n",
       "    <tr>\n",
       "      <th>0</th>\n",
       "      <td>NA</td>\n",
       "      <td>No</td>\n",
       "      <td>Beer &amp; Wine Only</td>\n",
       "      <td>Casual</td>\n",
       "      <td>Casual</td>\n",
       "      <td>No</td>\n",
       "      <td>Shanghainese; Seafood; Venues &amp; Event Spaces;</td>\n",
       "      <td>No</td>\n",
       "      <td>No</td>\n",
       "      <td>No</td>\n",
       "      <td>...</td>\n",
       "      <td>Yes</td>\n",
       "      <td>NA</td>\n",
       "      <td>No</td>\n",
       "      <td>$11-30</td>\n",
       "      <td>Joe’s Shanghai</td>\n",
       "      <td>Chinatown, Civic Center</td>\n",
       "      <td>4.0</td>\n",
       "      <td>5508</td>\n",
       "      <td>10013</td>\n",
       "      <td>9 Pell St</td>\n",
       "    </tr>\n",
       "    <tr>\n",
       "      <th>1</th>\n",
       "      <td>NA</td>\n",
       "      <td>Yes</td>\n",
       "      <td>No</td>\n",
       "      <td>Casual</td>\n",
       "      <td>Casual</td>\n",
       "      <td>Yes</td>\n",
       "      <td>Shanghainese;</td>\n",
       "      <td>No</td>\n",
       "      <td>Yes</td>\n",
       "      <td>No</td>\n",
       "      <td>...</td>\n",
       "      <td>NA</td>\n",
       "      <td>NA</td>\n",
       "      <td>No</td>\n",
       "      <td>$11-30</td>\n",
       "      <td>Shanghai 21</td>\n",
       "      <td>Chinatown, Civic Center</td>\n",
       "      <td>4.0</td>\n",
       "      <td>1437</td>\n",
       "      <td>10013</td>\n",
       "      <td>21 Mott St</td>\n",
       "    </tr>\n",
       "    <tr>\n",
       "      <th>2</th>\n",
       "      <td>NA</td>\n",
       "      <td>Yes</td>\n",
       "      <td>No</td>\n",
       "      <td>Casual</td>\n",
       "      <td>Casual</td>\n",
       "      <td>No</td>\n",
       "      <td>Chinese; Noodles;</td>\n",
       "      <td>No</td>\n",
       "      <td>Yes</td>\n",
       "      <td>No</td>\n",
       "      <td>...</td>\n",
       "      <td>NA</td>\n",
       "      <td>NA</td>\n",
       "      <td>No</td>\n",
       "      <td>Under $10</td>\n",
       "      <td>Noodle Village</td>\n",
       "      <td>Chinatown, Civic Center</td>\n",
       "      <td>4.0</td>\n",
       "      <td>877</td>\n",
       "      <td>10013</td>\n",
       "      <td>13 Mott St</td>\n",
       "    </tr>\n",
       "    <tr>\n",
       "      <th>3</th>\n",
       "      <td>NA</td>\n",
       "      <td>Yes</td>\n",
       "      <td>Full Bar</td>\n",
       "      <td>NA</td>\n",
       "      <td>NA</td>\n",
       "      <td>Yes</td>\n",
       "      <td>Dim Sum; Seafood; Sandwiches;</td>\n",
       "      <td>Yes</td>\n",
       "      <td>Yes</td>\n",
       "      <td>No</td>\n",
       "      <td>...</td>\n",
       "      <td>Yes</td>\n",
       "      <td>Yes</td>\n",
       "      <td>Free</td>\n",
       "      <td>NA</td>\n",
       "      <td>Brooklyn Chop House</td>\n",
       "      <td>Civic Center, Financial District</td>\n",
       "      <td>4.0</td>\n",
       "      <td>78</td>\n",
       "      <td>10038</td>\n",
       "      <td>150 Nassau St</td>\n",
       "    </tr>\n",
       "    <tr>\n",
       "      <th>4</th>\n",
       "      <td>NA</td>\n",
       "      <td>Yes</td>\n",
       "      <td>Beer &amp; Wine Only</td>\n",
       "      <td>Casual</td>\n",
       "      <td>Casual</td>\n",
       "      <td>Yes</td>\n",
       "      <td>Chinese; Seafood; Noodles;</td>\n",
       "      <td>No</td>\n",
       "      <td>Yes</td>\n",
       "      <td>NA</td>\n",
       "      <td>...</td>\n",
       "      <td>NA</td>\n",
       "      <td>NA</td>\n",
       "      <td>No</td>\n",
       "      <td>$11-30</td>\n",
       "      <td>Hop Lee Restaurant</td>\n",
       "      <td>Chinatown, Civic Center</td>\n",
       "      <td>4.0</td>\n",
       "      <td>256</td>\n",
       "      <td>10013</td>\n",
       "      <td>16 Mott St</td>\n",
       "    </tr>\n",
       "  </tbody>\n",
       "</table>\n",
       "<p>5 rows × 37 columns</p>\n",
       "</div>"
      ],
      "text/plain": [
       "  Accepts Bitcoin Accepts Credit Cards           Alcohol Ambience  Attire  \\\n",
       "0              NA                   No  Beer & Wine Only   Casual  Casual   \n",
       "1              NA                  Yes                No   Casual  Casual   \n",
       "2              NA                  Yes                No   Casual  Casual   \n",
       "3              NA                  Yes          Full Bar       NA      NA   \n",
       "4              NA                  Yes  Beer & Wine Only   Casual  Casual   \n",
       "\n",
       "  Bike Parking                                        Category Caters  \\\n",
       "0           No  Shanghainese; Seafood; Venues & Event Spaces;      No   \n",
       "1          Yes                                  Shanghainese;      No   \n",
       "2           No                              Chinese; Noodles;      No   \n",
       "3          Yes                  Dim Sum; Seafood; Sandwiches;     Yes   \n",
       "4          Yes                     Chinese; Seafood; Noodles;      No   \n",
       "\n",
       "  Delivery Dogs Allowed        ...        Waiter Service  \\\n",
       "0       No           No        ...                   Yes   \n",
       "1      Yes           No        ...                    NA   \n",
       "2      Yes           No        ...                    NA   \n",
       "3      Yes           No        ...                   Yes   \n",
       "4      Yes           NA        ...                    NA   \n",
       "\n",
       "  Wheelchair Accessible Wi-Fi price_range      restaurant_name  \\\n",
       "0                    NA    No      $11-30       Joe’s Shanghai   \n",
       "1                    NA    No      $11-30          Shanghai 21   \n",
       "2                    NA    No   Under $10       Noodle Village   \n",
       "3                   Yes  Free          NA  Brooklyn Chop House   \n",
       "4                    NA    No      $11-30   Hop Lee Restaurant   \n",
       "\n",
       "            restaurant_neighobrhood restaurant_rating restaurant_reviewcount  \\\n",
       "0           Chinatown, Civic Center               4.0                   5508   \n",
       "1           Chinatown, Civic Center               4.0                   1437   \n",
       "2           Chinatown, Civic Center               4.0                    877   \n",
       "3  Civic Center, Financial District               4.0                     78   \n",
       "4           Chinatown, Civic Center               4.0                    256   \n",
       "\n",
       "  restaurant_zipcode retaurant_address  \n",
       "0              10013         9 Pell St  \n",
       "1              10013        21 Mott St  \n",
       "2              10013        13 Mott St  \n",
       "3              10038     150 Nassau St  \n",
       "4              10013        16 Mott St  \n",
       "\n",
       "[5 rows x 37 columns]"
      ]
     },
     "execution_count": 219,
     "metadata": {},
     "output_type": "execute_result"
    }
   ],
   "source": [
    "df.head()"
   ]
  },
  {
   "cell_type": "code",
   "execution_count": null,
   "metadata": {
    "collapsed": true
   },
   "outputs": [],
   "source": [
    "print('Please enter a restaurant name below, if you have no idea about it, just click return')\n",
    "name=input(\"restaurant name: \")\n",
    "\n",
    "if name=='':\n",
    "    #return the original csv\n",
    "else:\n",
    "    #return the selceted csv"
   ]
  },
  {
   "cell_type": "code",
   "execution_count": null,
   "metadata": {
    "collapsed": true
   },
   "outputs": [],
   "source": [
    "print('Please enter a restaurant style below, if you have no idea about it, just click return')\n",
    "style = input(\"style: \")"
   ]
  },
  {
   "cell_type": "code",
   "execution_count": 40,
   "metadata": {},
   "outputs": [
    {
     "name": "stdout",
     "output_type": "stream",
     "text": [
      "Are you going to eat Lunch, Dinner or Breakfast?, please input Lunch or Dinner, if you have no idea about it, just click return\n",
      "Lunch, Dinner or Breakfast :Lunch\n"
     ]
    }
   ],
   "source": [
    "print('Are you going to eat Lunch, Dinner or Breakfast?, please input Lunch or Dinner, if you have no idea about it, just click return')\n",
    "mealkind = input(\"Lunch, Dinner or Breakfast :\")"
   ]
  },
  {
   "cell_type": "code",
   "execution_count": 41,
   "metadata": {},
   "outputs": [
    {
     "name": "stdout",
     "output_type": "stream",
     "text": [
      "Want to find a place to drink alcohol? Please enter: Full Bar, Beer&Wine Only or No below\n",
      "alcohol:Full Bar\n"
     ]
    }
   ],
   "source": [
    "print('Want to find a place to drink alcohol? Please enter: Full Bar, Beer&Wine Only or No below')\n",
    "alcohol = input(\"alcohol:\")"
   ]
  },
  {
   "cell_type": "code",
   "execution_count": 210,
   "metadata": {},
   "outputs": [
    {
     "name": "stdout",
     "output_type": "stream",
     "text": [
      "enter your current location: \n",
      "location:Upper West Side\n"
     ]
    }
   ],
   "source": [
    "print(\"enter your current location: \")\n",
    "zipcode = input(\"location:\")"
   ]
  },
  {
   "cell_type": "code",
   "execution_count": null,
   "metadata": {
    "collapsed": true
   },
   "outputs": [],
   "source": [
    "# We want to output the restaurants with highest Yelp ratings and good hygiene for the users"
   ]
  }
 ],
 "metadata": {
  "anaconda-cloud": {},
  "kernelspec": {
   "display_name": "Python 3",
   "language": "python",
   "name": "python3"
  }
 },
 "nbformat": 4,
 "nbformat_minor": 2
}
