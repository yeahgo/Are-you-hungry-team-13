{
 "cells": [
  {
   "cell_type": "markdown",
   "metadata": {},
   "source": [
    "Use the following code to clean csv dataframes for different restaurants.\n",
    "\n",
    "Merge the cleaned individual dataframes into the final dataframe as our database."
   ]
  },
  {
   "cell_type": "code",
   "execution_count": 17,
   "metadata": {},
   "outputs": [
    {
     "data": {
      "text/plain": [
       "38"
      ]
     },
     "execution_count": 17,
     "metadata": {},
     "output_type": "execute_result"
    }
   ],
   "source": [
    "import pandas as pd\n",
    "pd_chinese = pd.read_csv('Chinese_Restaurant.csv', encoding = 'latin1')\n",
    "len(pd_chinese.columns)"
   ]
  },
  {
   "cell_type": "code",
   "execution_count": 20,
   "metadata": {},
   "outputs": [
    {
     "data": {
      "text/plain": [
       "Index(['Unnamed: 0', 'Accepts Bitcoin', 'Accepts Credit Cards', 'Alcohol',\n",
       "       'Ambience', 'Attire', 'Bike Parking', 'Category', 'Caters', 'Delivery',\n",
       "       'Dogs Allowed', 'Gender Neutral Restrooms', 'Good For',\n",
       "       'Good for Groups', 'Good for Kids', 'Happy Hour',\n",
       "       'Has Dairy-free Options', 'Has Gluten-free Options',\n",
       "       'Has Soy-free Options', 'Has TV', 'Hygiene_score', 'Liked by Vegans',\n",
       "       'Liked by Vegetarians', 'Noise Level', 'Outdoor Seating', 'Parking',\n",
       "       'Take-out', 'Takes Reservations', 'Waiter Service',\n",
       "       'Wheelchair Accessible', 'Wi-Fi', 'price_range', 'restaurant_name',\n",
       "       'restaurant_neighobrhood', 'restaurant_rating',\n",
       "       'restaurant_reviewcount', 'restaurant_zipcode', 'retaurant_address'],\n",
       "      dtype='object')"
      ]
     },
     "execution_count": 20,
     "metadata": {},
     "output_type": "execute_result"
    }
   ],
   "source": [
    "pd_chinese.columns"
   ]
  },
  {
   "cell_type": "code",
   "execution_count": 21,
   "metadata": {},
   "outputs": [
    {
     "data": {
      "text/plain": [
       "Index(['Unnamed: 0', 'restaurant_name', 'retaurant_address',\n",
       "       'restaurant_zipcode', 'restaurant_reviewcount', 'restaurant_rating',\n",
       "       'Hygiene_score', 'price_range', 'Takes Reservations', 'Delivery',\n",
       "       'Take-out', 'Accepts Credit Cards', 'Accepts Apple Pay',\n",
       "       'Accepts Google Pay', 'Accepts Bitcoin', 'Good For', 'Parking',\n",
       "       'Bike Parking', 'Wheelchair Accessible', 'Good for Kids',\n",
       "       'Good for Groups', 'Attire', 'Ambience', 'Noise Level', 'Alcohol',\n",
       "       'Happy Hour', 'Outdoor Seating', 'Wi-Fi', 'Has TV', 'Dogs Allowed',\n",
       "       'Waiter Service', 'Caters', 'Gender Neutral Restrooms',\n",
       "       'Has Dairy-free Options', 'Liked by Vegetarians', 'Liked by Vegans',\n",
       "       'Good For Dancing', 'Best Nights', 'Good for Working', 'Has Pool Table',\n",
       "       'Open to All', 'Coat Check', 'Has Soy-free Options',\n",
       "       'Has Gluten-free Options', 'Smoking', 'Has Kosher Options',\n",
       "       'Offers Military Discount'],\n",
       "      dtype='object')"
      ]
     },
     "execution_count": 21,
     "metadata": {},
     "output_type": "execute_result"
    }
   ],
   "source": [
    "pd_korean.columns"
   ]
  },
  {
   "cell_type": "code",
   "execution_count": 18,
   "metadata": {},
   "outputs": [
    {
     "data": {
      "text/plain": [
       "47"
      ]
     },
     "execution_count": 18,
     "metadata": {},
     "output_type": "execute_result"
    }
   ],
   "source": [
    "pd_korean = pd.read_csv('Korean_Restaurant.csv', encoding = 'latin1')\n",
    "len(pd_korean.columns)"
   ]
  },
  {
   "cell_type": "code",
   "execution_count": 19,
   "metadata": {},
   "outputs": [
    {
     "data": {
      "text/plain": [
       "37"
      ]
     },
     "execution_count": 19,
     "metadata": {},
     "output_type": "execute_result"
    }
   ],
   "source": [
    "header=['restaurant_name', 'retaurant_address', 'restaurant_zipcode', 'restaurant_reviewcount', 'restaurant_rating', 'restaurant_neighobrhood', 'Hygiene_score', 'price_range', 'Liked by Vegetarians', 'Takes Reservations', 'Delivery', 'Take-out', 'Accepts Credit Cards', 'Accepts Bitcoin', 'Parking', 'Bike Parking', 'Wheelchair Accessible', 'Good for Kids', 'Good for Groups', 'Attire', 'Noise Level', 'Alcohol', 'Happy Hour', 'Outdoor Seating', 'Wi-Fi', 'Has TV', 'Dogs Allowed', 'Waiter Service', 'Caters', 'Category', 'Has Soy-free Options', 'Has Dairy-free Options', 'Liked by Vegans', 'Has Gluten-free Options', 'Good For', 'Ambience', 'Gender Neutral Restrooms']\n",
    "len(header)"
   ]
  },
  {
   "cell_type": "code",
   "execution_count": null,
   "metadata": {
    "collapsed": true
   },
   "outputs": [],
   "source": []
  }
 ],
 "metadata": {
  "kernelspec": {
   "display_name": "Python 3",
   "language": "python",
   "name": "python3"
  },
  "language_info": {
   "codemirror_mode": {
    "name": "ipython",
    "version": 3
   },
   "file_extension": ".py",
   "mimetype": "text/x-python",
   "name": "python",
   "nbconvert_exporter": "python",
   "pygments_lexer": "ipython3",
   "version": "3.6.7"
  }
 },
 "nbformat": 4,
 "nbformat_minor": 2
}
