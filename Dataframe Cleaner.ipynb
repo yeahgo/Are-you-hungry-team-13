{
 "cells": [
  {
   "cell_type": "markdown",
   "metadata": {},
   "source": [
    "Use the following code to clean csv dataframes for different restaurants.\n",
    "\n",
    "Merge the cleaned individual dataframes into the final dataframe as our database."
   ]
  },
  {
   "cell_type": "code",
   "execution_count": 1,
   "metadata": {},
   "outputs": [],
   "source": [
    "import pandas as pd"
   ]
  },
  {
   "cell_type": "code",
   "execution_count": 2,
   "metadata": {},
   "outputs": [
    {
     "data": {
      "text/plain": [
       "(479, 38)"
      ]
     },
     "execution_count": 2,
     "metadata": {},
     "output_type": "execute_result"
    }
   ],
   "source": [
    "df_chinese = pd.read_csv('Chinese_Restaurant.csv', encoding = 'latin1')\n",
    "df_chinese = df_chinese.reindex_axis(sorted(df_chinese.columns), axis=1) # order the column names\n",
    "df_chinese = df_chinese.drop(['Unnamed: 0'],axis=1) # drop irrevalant column\n",
    "df_chinese = df_chinese.drop_duplicates() # drop same restaurants appeared in the search\n",
    "df_chinese ['Source'] = 'Chinese' # use 'Source' to indicate the searching term\n",
    "df_chinese.shape # print shape to make sure column number is correct"
   ]
  },
  {
   "cell_type": "code",
   "execution_count": 3,
   "metadata": {},
   "outputs": [
    {
     "data": {
      "text/plain": [
       "(101, 38)"
      ]
     },
     "execution_count": 3,
     "metadata": {},
     "output_type": "execute_result"
    }
   ],
   "source": [
    "df_spanish = pd.read_csv('Spanish_Restaurant.csv', encoding = 'latin1')\n",
    "df_spanish = df_spanish.reindex_axis(sorted(df_spanish.columns), axis=1)\n",
    "df_spanish = df_spanish.drop(['Unnamed: 0'],axis=1)\n",
    "df_spanish = df_spanish.drop_duplicates()\n",
    "df_spanish ['Source'] = 'Spanish'\n",
    "df_spanish.shape"
   ]
  },
  {
   "cell_type": "code",
   "execution_count": 4,
   "metadata": {},
   "outputs": [
    {
     "data": {
      "text/plain": [
       "(73, 38)"
      ]
     },
     "execution_count": 4,
     "metadata": {},
     "output_type": "execute_result"
    }
   ],
   "source": [
    "df_japanese = pd.read_csv('Japanese_Restaurant.csv', encoding = 'latin1')\n",
    "df_japanese = df_japanese.reindex_axis(sorted(df_japanese.columns), axis=1)\n",
    "df_japanese = df_japanese.drop(['Unnamed: 0'],axis=1)\n",
    "df_japanese = df_japanese.drop_duplicates()\n",
    "df_japanese ['Source'] = 'Japanese'\n",
    "df_japanese.shape"
   ]
  },
  {
   "cell_type": "code",
   "execution_count": 5,
   "metadata": {},
   "outputs": [
    {
     "data": {
      "text/plain": [
       "(138, 38)"
      ]
     },
     "execution_count": 5,
     "metadata": {},
     "output_type": "execute_result"
    }
   ],
   "source": [
    "df_american = pd.read_csv('American_Restaurant.csv', encoding = 'latin1')\n",
    "df_american = df_american.reindex_axis(sorted(df_american.columns), axis=1)\n",
    "df_american = df_american.drop(['Unnamed: 0'],axis=1)\n",
    "df_american = df_american.drop_duplicates()\n",
    "df_american ['Source'] = 'American'\n",
    "df_american.shape"
   ]
  },
  {
   "cell_type": "code",
   "execution_count": 10,
   "metadata": {},
   "outputs": [
    {
     "data": {
      "text/plain": [
       "(95, 38)"
      ]
     },
     "execution_count": 10,
     "metadata": {},
     "output_type": "execute_result"
    }
   ],
   "source": [
    "df_morningside = pd.read_csv('Morningside_height.csv',encoding = 'latin')\n",
    "df_morningside = df_morningside.reindex_axis(sorted(df_morningside.columns), axis=1)\n",
    "df_morningside = df_morningside.drop(['Unnamed: 0'],axis=1)\n",
    "df_morningside = df_morningside.drop_duplicates()\n",
    "df_morningside['Source'] = 'Morningside Height'\n",
    "df_morningside.shape"
   ]
  },
  {
   "cell_type": "code",
   "execution_count": 11,
   "metadata": {},
   "outputs": [],
   "source": [
    "df_morningside.to_csv(\"morningside_restaurant.csv\")"
   ]
  },
  {
   "cell_type": "code",
   "execution_count": null,
   "metadata": {},
   "outputs": [],
   "source": [
    "df_final = df_chinese.copy()\n",
    "df_final = pd.concat([df_chinese, df_japanese, df_spanish, df_american, ])\n",
    "df_final = df_final.drop_duplicates()\n",
    "df_final.shape"
   ]
  },
  {
   "cell_type": "code",
   "execution_count": null,
   "metadata": {
    "collapsed": true
   },
   "outputs": [],
   "source": [
    "final_df"
   ]
  },
  {
   "cell_type": "code",
   "execution_count": null,
   "metadata": {},
   "outputs": [],
   "source": [
    "header=['restaurant_name', 'retaurant_address', 'restaurant_zipcode', 'restaurant_reviewcount', 'restaurant_rating', 'restaurant_neighobrhood', 'Hygiene_score', 'price_range', 'Liked by Vegetarians', 'Takes Reservations', 'Delivery', 'Take-out', 'Accepts Credit Cards', 'Accepts Bitcoin', 'Parking', 'Bike Parking', 'Wheelchair Accessible', 'Good for Kids', 'Good for Groups', 'Attire', 'Noise Level', 'Alcohol', 'Happy Hour', 'Outdoor Seating', 'Wi-Fi', 'Has TV', 'Dogs Allowed', 'Waiter Service', 'Caters', 'Category', 'Has Soy-free Options', 'Has Dairy-free Options', 'Liked by Vegans', 'Has Gluten-free Options', 'Good For', 'Ambience', 'Gender Neutral Restrooms']\n",
    "len(header)"
   ]
  },
  {
   "cell_type": "code",
   "execution_count": null,
   "metadata": {},
   "outputs": [],
   "source": [
    "df_korean = pd.read_csv('Korean_Restaurant.csv', encoding = 'latin1')"
   ]
  },
  {
   "cell_type": "code",
   "execution_count": null,
   "metadata": {},
   "outputs": [],
   "source": [
    "df_korean = df_korean.drop(['Unnamed: 0','Accepts Apple Pay','Accepts Google Pay','Best Nights','Coat Check', 'Offers Military Discount', 'Open to All','Good For Dancing', 'Good for Working','Has Kosher Options', 'Has Pool Table','Smoking'],axis=1)\n",
    "df_korean['Category'] = 'Korean'\n",
    "df_korean = df_korean.reindex_axis(sorted(df_korean.columns), axis=1)\n",
    "df_korean.columns"
   ]
  },
  {
   "cell_type": "code",
   "execution_count": null,
   "metadata": {
    "collapsed": true
   },
   "outputs": [],
   "source": []
  }
 ],
 "metadata": {
  "kernelspec": {
   "display_name": "Python 3",
   "language": "python",
   "name": "python3"
  },
  "language_info": {
   "codemirror_mode": {
    "name": "ipython",
    "version": 3
   },
   "file_extension": ".py",
   "mimetype": "text/x-python",
   "name": "python",
   "nbconvert_exporter": "python",
   "pygments_lexer": "ipython3",
   "version": "3.6.7"
  }
 },
 "nbformat": 4,
 "nbformat_minor": 2
}
