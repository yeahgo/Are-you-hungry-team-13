{
 "cells": [
  {
   "cell_type": "markdown",
   "metadata": {},
   "source": [
    "Use the following code to clean csv dataframes for different restaurants.\n",
    "\n",
    "Merge the cleaned individual dataframes into the final dataframe as our database."
   ]
  },
  {
   "cell_type": "code",
   "execution_count": 1,
   "metadata": {},
   "outputs": [],
   "source": [
    "import pandas as pd"
   ]
  },
  {
   "cell_type": "code",
   "execution_count": 19,
   "metadata": {},
   "outputs": [
    {
     "data": {
      "text/plain": [
       "37"
      ]
     },
     "execution_count": 19,
     "metadata": {},
     "output_type": "execute_result"
    }
   ],
   "source": [
    "header=['restaurant_name', 'retaurant_address', 'restaurant_zipcode', 'restaurant_reviewcount', 'restaurant_rating', 'restaurant_neighobrhood', 'Hygiene_score', 'price_range', 'Liked by Vegetarians', 'Takes Reservations', 'Delivery', 'Take-out', 'Accepts Credit Cards', 'Accepts Bitcoin', 'Parking', 'Bike Parking', 'Wheelchair Accessible', 'Good for Kids', 'Good for Groups', 'Attire', 'Noise Level', 'Alcohol', 'Happy Hour', 'Outdoor Seating', 'Wi-Fi', 'Has TV', 'Dogs Allowed', 'Waiter Service', 'Caters', 'Category', 'Has Soy-free Options', 'Has Dairy-free Options', 'Liked by Vegans', 'Has Gluten-free Options', 'Good For', 'Ambience', 'Gender Neutral Restrooms']\n",
    "len(header)"
   ]
  },
  {
   "cell_type": "code",
   "execution_count": 2,
   "metadata": {},
   "outputs": [
    {
     "data": {
      "text/plain": [
       "(479, 38)"
      ]
     },
     "execution_count": 2,
     "metadata": {},
     "output_type": "execute_result"
    }
   ],
   "source": [
    "df_chinese = pd.read_csv('Chinese_Restaurant.csv', encoding = 'latin1')\n",
    "df_chinese = df_chinese.reindex_axis(sorted(df_chinese.columns), axis=1) # order the column names\n",
    "df_chinese = df_chinese.drop(['Unnamed: 0'],axis=1) # drop irrevalant column\n",
    "df_chinese = df_chinese.drop_duplicates() # drop same restaurants appeared in the search\n",
    "df_chinese ['Source'] = 'Chinese' # use 'Source' to indicate the searching term\n",
    "df_chinese.shape # print shape to make sure column number is correct"
   ]
  },
  {
   "cell_type": "code",
   "execution_count": 3,
   "metadata": {},
   "outputs": [
    {
     "data": {
      "text/plain": [
       "(101, 38)"
      ]
     },
     "execution_count": 3,
     "metadata": {},
     "output_type": "execute_result"
    }
   ],
   "source": [
    "df_spanish = pd.read_csv('Spanish_Restaurant.csv', encoding = 'latin1')\n",
    "df_spanish = df_spanish.reindex_axis(sorted(df_spanish.columns), axis=1)\n",
    "df_spanish = df_spanish.drop(['Unnamed: 0'],axis=1)\n",
    "df_spanish = df_spanish.drop_duplicates()\n",
    "df_spanish ['Source'] = 'Spanish'\n",
    "df_spanish.shape"
   ]
  },
  {
   "cell_type": "code",
   "execution_count": 4,
   "metadata": {},
   "outputs": [
    {
     "data": {
      "text/plain": [
       "(72, 38)"
      ]
     },
     "execution_count": 4,
     "metadata": {},
     "output_type": "execute_result"
    }
   ],
   "source": [
    "df_japanese = pd.read_csv('Japanese_Restaurant.csv', encoding = 'latin1')\n",
    "df_japanese = df_japanese.reindex_axis(sorted(df_japanese.columns), axis=1)\n",
    "df_japanese = df_japanese.drop(['Unnamed: 0'],axis=1)\n",
    "df_japanese = df_japanese.drop_duplicates()\n",
    "df_japanese ['Source'] = 'Japanese'\n",
    "df_japanese.shape"
   ]
  },
  {
   "cell_type": "code",
   "execution_count": 5,
   "metadata": {},
   "outputs": [
    {
     "data": {
      "text/plain": [
       "(138, 38)"
      ]
     },
     "execution_count": 5,
     "metadata": {},
     "output_type": "execute_result"
    }
   ],
   "source": [
    "df_american = pd.read_csv('American_Restaurant.csv', encoding = 'latin1')\n",
    "df_american = df_american.reindex_axis(sorted(df_american.columns), axis=1)\n",
    "df_american = df_american.drop(['Unnamed: 0'],axis=1)\n",
    "df_american = df_american.drop_duplicates()\n",
    "df_american ['Source'] = 'American'\n",
    "df_american.shape"
   ]
  },
  {
   "cell_type": "code",
   "execution_count": 6,
   "metadata": {},
   "outputs": [
    {
     "data": {
      "text/plain": [
       "(95, 38)"
      ]
     },
     "execution_count": 6,
     "metadata": {},
     "output_type": "execute_result"
    }
   ],
   "source": [
    "df_morningside = pd.read_csv('Morningside_height.csv',encoding = 'latin1')\n",
    "df_morningside = df_morningside.reindex_axis(sorted(df_morningside.columns), axis=1)\n",
    "df_morningside = df_morningside.drop(['Unnamed: 0'],axis=1)\n",
    "df_morningside = df_morningside.drop_duplicates()\n",
    "df_morningside['Source'] = 'Morningside Height'\n",
    "df_morningside.shape"
   ]
  },
  {
   "cell_type": "code",
   "execution_count": 7,
   "metadata": {},
   "outputs": [
    {
     "data": {
      "text/plain": [
       "(244, 38)"
      ]
     },
     "execution_count": 7,
     "metadata": {},
     "output_type": "execute_result"
    }
   ],
   "source": [
    "df_french = pd.read_csv('French_Restaurant.csv', encoding = 'latin1')\n",
    "df_french = df_french.reindex_axis(sorted(df_french.columns), axis=1)\n",
    "df_french = df_french.drop(['Unnamed: 0'],axis=1)\n",
    "df_french = df_french.drop_duplicates()\n",
    "df_french['Source'] = 'French'\n",
    "df_french.shape"
   ]
  },
  {
   "cell_type": "code",
   "execution_count": 8,
   "metadata": {},
   "outputs": [
    {
     "data": {
      "text/plain": [
       "(20, 38)"
      ]
     },
     "execution_count": 8,
     "metadata": {},
     "output_type": "execute_result"
    }
   ],
   "source": [
    "df_italian = pd.read_csv('Italian_Restaurant.csv', encoding = 'latin1')\n",
    "df_italian = df_italian.reindex_axis(sorted(df_italian.columns), axis=1)\n",
    "df_italian = df_italian.drop(['Unnamed: 0'],axis=1)\n",
    "df_italian = df_italian.drop_duplicates()\n",
    "df_italian['Source'] = 'Italian'\n",
    "df_italian.shape"
   ]
  },
  {
   "cell_type": "code",
   "execution_count": 9,
   "metadata": {},
   "outputs": [
    {
     "data": {
      "text/plain": [
       "(52, 38)"
      ]
     },
     "execution_count": 9,
     "metadata": {},
     "output_type": "execute_result"
    }
   ],
   "source": [
    "df_greek = pd.read_csv('Greek_Restaurant.csv', encoding = 'latin1')\n",
    "df_greek = df_greek.reindex_axis(sorted(df_greek.columns), axis=1)\n",
    "df_greek = df_greek.drop(['Unnamed: 0'],axis=1)\n",
    "df_greek = df_greek.drop_duplicates()\n",
    "df_greek['Source'] = 'Greek'\n",
    "df_greek.shape"
   ]
  },
  {
   "cell_type": "code",
   "execution_count": 10,
   "metadata": {},
   "outputs": [
    {
     "data": {
      "text/plain": [
       "(377, 38)"
      ]
     },
     "execution_count": 10,
     "metadata": {},
     "output_type": "execute_result"
    }
   ],
   "source": [
    "df_thai = pd.read_csv('Thai_Restaurant.csv', encoding = 'latin1')\n",
    "df_thai = df_thai.reindex_axis(sorted(df_thai.columns), axis=1)\n",
    "df_thai = df_thai.drop(['Unnamed: 0'],axis=1)\n",
    "df_thai = df_thai.drop_duplicates()\n",
    "df_thai['Source'] = 'Thai'\n",
    "df_thai.shape"
   ]
  },
  {
   "cell_type": "code",
   "execution_count": 11,
   "metadata": {},
   "outputs": [
    {
     "data": {
      "text/plain": [
       "(151, 38)"
      ]
     },
     "execution_count": 11,
     "metadata": {},
     "output_type": "execute_result"
    }
   ],
   "source": [
    "df_indian = pd.read_csv('Indian_Restaurant.csv', encoding = 'latin1')\n",
    "df_indian = df_indian.reindex_axis(sorted(df_indian.columns), axis=1)\n",
    "df_indian = df_indian.drop(['Unnamed: 0'],axis=1)\n",
    "df_indian = df_indian.drop_duplicates()\n",
    "df_indian['Source'] = 'Indian'\n",
    "df_indian.shape"
   ]
  },
  {
   "cell_type": "code",
   "execution_count": 12,
   "metadata": {},
   "outputs": [
    {
     "data": {
      "text/plain": [
       "(216, 38)"
      ]
     },
     "execution_count": 12,
     "metadata": {},
     "output_type": "execute_result"
    }
   ],
   "source": [
    "df_korean = pd.read_csv('Korean_Restaurant.csv', encoding = 'latin1')\n",
    "df_korean = df_korean.reindex_axis(sorted(df_korean.columns), axis=1)\n",
    "df_korean = df_korean.drop(['Unnamed: 0'],axis=1)\n",
    "df_korean = df_korean.drop_duplicates()\n",
    "df_korean['Source'] = 'Korean'\n",
    "df_korean.shape"
   ]
  },
  {
   "cell_type": "code",
   "execution_count": 13,
   "metadata": {},
   "outputs": [
    {
     "data": {
      "text/plain": [
       "(1729, 38)"
      ]
     },
     "execution_count": 13,
     "metadata": {},
     "output_type": "execute_result"
    }
   ],
   "source": [
    "# Merge all the dataframs into one final dataframe\n",
    "df_final = pd.concat([df_japanese, df_chinese, df_spanish, df_american,df_morningside, df_french, df_italian, df_greek, df_thai, df_indian])\n",
    "df_final = df_final.drop_duplicates()\n",
    "df_final.shape"
   ]
  },
  {
   "cell_type": "code",
   "execution_count": 14,
   "metadata": {},
   "outputs": [],
   "source": [
    "df_final = df_final.rename(index=str, columns={\"restaurant_neighobrhood\": \"restaurant_neighborhood\"})\n",
    "df_final.reset_index()\n",
    "df_final = df_final.fillna('NA')"
   ]
  },
  {
   "cell_type": "code",
   "execution_count": 15,
   "metadata": {},
   "outputs": [
    {
     "data": {
      "text/html": [
       "<div>\n",
       "<style>\n",
       "    .dataframe thead tr:only-child th {\n",
       "        text-align: right;\n",
       "    }\n",
       "\n",
       "    .dataframe thead th {\n",
       "        text-align: left;\n",
       "    }\n",
       "\n",
       "    .dataframe tbody tr th {\n",
       "        vertical-align: top;\n",
       "    }\n",
       "</style>\n",
       "<table border=\"1\" class=\"dataframe\">\n",
       "  <thead>\n",
       "    <tr style=\"text-align: right;\">\n",
       "      <th></th>\n",
       "      <th>Accepts Bitcoin</th>\n",
       "      <th>Accepts Credit Cards</th>\n",
       "      <th>Alcohol</th>\n",
       "      <th>Ambience</th>\n",
       "      <th>Attire</th>\n",
       "      <th>Bike Parking</th>\n",
       "      <th>Category</th>\n",
       "      <th>Caters</th>\n",
       "      <th>Delivery</th>\n",
       "      <th>Dogs Allowed</th>\n",
       "      <th>...</th>\n",
       "      <th>Wheelchair Accessible</th>\n",
       "      <th>Wi-Fi</th>\n",
       "      <th>price_range</th>\n",
       "      <th>restaurant_name</th>\n",
       "      <th>restaurant_neighborhood</th>\n",
       "      <th>restaurant_rating</th>\n",
       "      <th>restaurant_reviewcount</th>\n",
       "      <th>restaurant_zipcode</th>\n",
       "      <th>retaurant_address</th>\n",
       "      <th>Source</th>\n",
       "    </tr>\n",
       "  </thead>\n",
       "  <tbody>\n",
       "    <tr>\n",
       "      <th>0</th>\n",
       "      <td>No</td>\n",
       "      <td>Yes</td>\n",
       "      <td>No</td>\n",
       "      <td>Casual, Trendy</td>\n",
       "      <td>Casual</td>\n",
       "      <td>No</td>\n",
       "      <td>Japanese; Sushi Bars;</td>\n",
       "      <td>Yes</td>\n",
       "      <td>No</td>\n",
       "      <td>No</td>\n",
       "      <td>...</td>\n",
       "      <td>Yes</td>\n",
       "      <td>Free</td>\n",
       "      <td>$11-30</td>\n",
       "      <td>Wasabi Sushi &amp; Bento</td>\n",
       "      <td>Financial District</td>\n",
       "      <td>4</td>\n",
       "      <td>107</td>\n",
       "      <td>10038</td>\n",
       "      <td>200 BroadwayFulton Street Station</td>\n",
       "      <td>Japanese</td>\n",
       "    </tr>\n",
       "    <tr>\n",
       "      <th>1</th>\n",
       "      <td>NA</td>\n",
       "      <td>Yes</td>\n",
       "      <td>Beer &amp; Wine Only</td>\n",
       "      <td>Casual</td>\n",
       "      <td>Casual</td>\n",
       "      <td>No</td>\n",
       "      <td>Ramen;</td>\n",
       "      <td>No</td>\n",
       "      <td>Yes</td>\n",
       "      <td>NA</td>\n",
       "      <td>...</td>\n",
       "      <td>NA</td>\n",
       "      <td>No</td>\n",
       "      <td>$11-30</td>\n",
       "      <td>Kuu Ramen</td>\n",
       "      <td>Financial District</td>\n",
       "      <td>3.5</td>\n",
       "      <td>510</td>\n",
       "      <td>10038</td>\n",
       "      <td>20 John St</td>\n",
       "      <td>Japanese</td>\n",
       "    </tr>\n",
       "    <tr>\n",
       "      <th>2</th>\n",
       "      <td>NA</td>\n",
       "      <td>Yes</td>\n",
       "      <td>No</td>\n",
       "      <td>Casual</td>\n",
       "      <td>Casual</td>\n",
       "      <td>Yes</td>\n",
       "      <td>Bakeries; Japanese; Coffee &amp; Tea;</td>\n",
       "      <td>Yes</td>\n",
       "      <td>No</td>\n",
       "      <td>NA</td>\n",
       "      <td>...</td>\n",
       "      <td>NA</td>\n",
       "      <td>No</td>\n",
       "      <td>$11-30</td>\n",
       "      <td>Takahachi Bakery</td>\n",
       "      <td>Civic Center, TriBeCa</td>\n",
       "      <td>4</td>\n",
       "      <td>779</td>\n",
       "      <td>10007</td>\n",
       "      <td>25 Murray St</td>\n",
       "      <td>Japanese</td>\n",
       "    </tr>\n",
       "    <tr>\n",
       "      <th>3</th>\n",
       "      <td>NA</td>\n",
       "      <td>Yes</td>\n",
       "      <td>Beer &amp; Wine Only</td>\n",
       "      <td>Casual</td>\n",
       "      <td>Casual</td>\n",
       "      <td>Yes</td>\n",
       "      <td>Sushi Bars; Japanese;</td>\n",
       "      <td>Yes</td>\n",
       "      <td>Yes</td>\n",
       "      <td>NA</td>\n",
       "      <td>...</td>\n",
       "      <td>NA</td>\n",
       "      <td>Free</td>\n",
       "      <td>$11-30</td>\n",
       "      <td>Blue Ribbon Sushi Bar - Hudson Eats</td>\n",
       "      <td>Battery Park</td>\n",
       "      <td>3.5</td>\n",
       "      <td>124</td>\n",
       "      <td>10281</td>\n",
       "      <td>225 Liberty StHudson Eats</td>\n",
       "      <td>Japanese</td>\n",
       "    </tr>\n",
       "    <tr>\n",
       "      <th>4</th>\n",
       "      <td>NA</td>\n",
       "      <td>Yes</td>\n",
       "      <td>Full Bar</td>\n",
       "      <td>Casual, Trendy</td>\n",
       "      <td>Casual</td>\n",
       "      <td>Yes</td>\n",
       "      <td>Sushi Bars; Asian Fusion; Japanese;</td>\n",
       "      <td>Yes</td>\n",
       "      <td>Yes</td>\n",
       "      <td>No</td>\n",
       "      <td>...</td>\n",
       "      <td>Yes</td>\n",
       "      <td>No</td>\n",
       "      <td>$11-30</td>\n",
       "      <td>Honshu</td>\n",
       "      <td>NA</td>\n",
       "      <td>4</td>\n",
       "      <td>227</td>\n",
       "      <td>7302</td>\n",
       "      <td>95 Greene St</td>\n",
       "      <td>Japanese</td>\n",
       "    </tr>\n",
       "  </tbody>\n",
       "</table>\n",
       "<p>5 rows × 38 columns</p>\n",
       "</div>"
      ],
      "text/plain": [
       "  Accepts Bitcoin Accepts Credit Cards           Alcohol        Ambience  \\\n",
       "0              No                  Yes                No  Casual, Trendy   \n",
       "1              NA                  Yes  Beer & Wine Only          Casual   \n",
       "2              NA                  Yes                No          Casual   \n",
       "3              NA                  Yes  Beer & Wine Only          Casual   \n",
       "4              NA                  Yes          Full Bar  Casual, Trendy   \n",
       "\n",
       "   Attire Bike Parking                              Category Caters Delivery  \\\n",
       "0  Casual           No                Japanese; Sushi Bars;     Yes       No   \n",
       "1  Casual           No                               Ramen;      No      Yes   \n",
       "2  Casual          Yes    Bakeries; Japanese; Coffee & Tea;     Yes       No   \n",
       "3  Casual          Yes                Sushi Bars; Japanese;     Yes      Yes   \n",
       "4  Casual          Yes  Sushi Bars; Asian Fusion; Japanese;     Yes      Yes   \n",
       "\n",
       "  Dogs Allowed    ...    Wheelchair Accessible Wi-Fi price_range  \\\n",
       "0           No    ...                      Yes  Free      $11-30   \n",
       "1           NA    ...                       NA    No      $11-30   \n",
       "2           NA    ...                       NA    No      $11-30   \n",
       "3           NA    ...                       NA  Free      $11-30   \n",
       "4           No    ...                      Yes    No      $11-30   \n",
       "\n",
       "                       restaurant_name restaurant_neighborhood  \\\n",
       "0                 Wasabi Sushi & Bento      Financial District   \n",
       "1                            Kuu Ramen      Financial District   \n",
       "2                     Takahachi Bakery   Civic Center, TriBeCa   \n",
       "3  Blue Ribbon Sushi Bar - Hudson Eats            Battery Park   \n",
       "4                               Honshu                      NA   \n",
       "\n",
       "  restaurant_rating restaurant_reviewcount restaurant_zipcode  \\\n",
       "0                 4                    107              10038   \n",
       "1               3.5                    510              10038   \n",
       "2                 4                    779              10007   \n",
       "3               3.5                    124              10281   \n",
       "4                 4                    227               7302   \n",
       "\n",
       "                   retaurant_address    Source  \n",
       "0  200 BroadwayFulton Street Station  Japanese  \n",
       "1                         20 John St  Japanese  \n",
       "2                       25 Murray St  Japanese  \n",
       "3          225 Liberty StHudson Eats  Japanese  \n",
       "4                       95 Greene St  Japanese  \n",
       "\n",
       "[5 rows x 38 columns]"
      ]
     },
     "execution_count": 15,
     "metadata": {},
     "output_type": "execute_result"
    }
   ],
   "source": [
    "df_final.head()"
   ]
  },
  {
   "cell_type": "code",
   "execution_count": 16,
   "metadata": {},
   "outputs": [
    {
     "data": {
      "text/html": [
       "<div>\n",
       "<style>\n",
       "    .dataframe thead tr:only-child th {\n",
       "        text-align: right;\n",
       "    }\n",
       "\n",
       "    .dataframe thead th {\n",
       "        text-align: left;\n",
       "    }\n",
       "\n",
       "    .dataframe tbody tr th {\n",
       "        vertical-align: top;\n",
       "    }\n",
       "</style>\n",
       "<table border=\"1\" class=\"dataframe\">\n",
       "  <thead>\n",
       "    <tr style=\"text-align: right;\">\n",
       "      <th></th>\n",
       "      <th>Accepts Bitcoin</th>\n",
       "      <th>Accepts Credit Cards</th>\n",
       "      <th>Alcohol</th>\n",
       "      <th>Ambience</th>\n",
       "      <th>Attire</th>\n",
       "      <th>Bike Parking</th>\n",
       "      <th>Category</th>\n",
       "      <th>Caters</th>\n",
       "      <th>Delivery</th>\n",
       "      <th>Dogs Allowed</th>\n",
       "      <th>...</th>\n",
       "      <th>Wheelchair Accessible</th>\n",
       "      <th>Wi-Fi</th>\n",
       "      <th>price_range</th>\n",
       "      <th>restaurant_name</th>\n",
       "      <th>restaurant_neighborhood</th>\n",
       "      <th>restaurant_rating</th>\n",
       "      <th>restaurant_reviewcount</th>\n",
       "      <th>restaurant_zipcode</th>\n",
       "      <th>retaurant_address</th>\n",
       "      <th>Source</th>\n",
       "    </tr>\n",
       "  </thead>\n",
       "  <tbody>\n",
       "  </tbody>\n",
       "</table>\n",
       "<p>0 rows × 38 columns</p>\n",
       "</div>"
      ],
      "text/plain": [
       "Empty DataFrame\n",
       "Columns: [Accepts Bitcoin, Accepts Credit Cards, Alcohol, Ambience, Attire, Bike Parking, Category, Caters, Delivery, Dogs Allowed, Gender Neutral Restrooms, Good For, Good for Groups, Good for Kids, Happy Hour, Has Dairy-free Options, Has Gluten-free Options, Has Soy-free Options, Has TV, Hygiene_score, Liked by Vegans, Liked by Vegetarians, Noise Level, Outdoor Seating, Parking, Take-out, Takes Reservations, Waiter Service, Wheelchair Accessible, Wi-Fi, price_range, restaurant_name, restaurant_neighborhood, restaurant_rating, restaurant_reviewcount, restaurant_zipcode, retaurant_address, Source]\n",
       "Index: []\n",
       "\n",
       "[0 rows x 38 columns]"
      ]
     },
     "execution_count": 16,
     "metadata": {},
     "output_type": "execute_result"
    }
   ],
   "source": [
    "# check there is no info from IP ban \n",
    "df_final[df_final['restaurant_name']=='Yelp' ]"
   ]
  },
  {
   "cell_type": "code",
   "execution_count": 17,
   "metadata": {
    "collapsed": true
   },
   "outputs": [],
   "source": [
    "df_final.to_csv(\"final_df.csv\")"
   ]
  },
  {
   "cell_type": "code",
   "execution_count": null,
   "metadata": {
    "collapsed": true
   },
   "outputs": [],
   "source": []
  },
  {
   "cell_type": "code",
   "execution_count": null,
   "metadata": {},
   "outputs": [],
   "source": [
    "header=['restaurant_name', 'retaurant_address', 'restaurant_zipcode', 'restaurant_reviewcount', 'restaurant_rating', 'restaurant_neighobrhood', 'Hygiene_score', 'price_range', 'Liked by Vegetarians', 'Takes Reservations', 'Delivery', 'Take-out', 'Accepts Credit Cards', 'Accepts Bitcoin', 'Parking', 'Bike Parking', 'Wheelchair Accessible', 'Good for Kids', 'Good for Groups', 'Attire', 'Noise Level', 'Alcohol', 'Happy Hour', 'Outdoor Seating', 'Wi-Fi', 'Has TV', 'Dogs Allowed', 'Waiter Service', 'Caters', 'Category', 'Has Soy-free Options', 'Has Dairy-free Options', 'Liked by Vegans', 'Has Gluten-free Options', 'Good For', 'Ambience', 'Gender Neutral Restrooms']\n",
    "len(header)"
   ]
  },
  {
   "cell_type": "code",
   "execution_count": null,
   "metadata": {
    "collapsed": true
   },
   "outputs": [],
   "source": []
  }
 ],
 "metadata": {
  "kernelspec": {
   "display_name": "Python 3",
   "language": "python",
   "name": "python3"
  },
  "language_info": {
   "codemirror_mode": {
    "name": "ipython",
    "version": 3
   },
   "file_extension": ".py",
   "mimetype": "text/x-python",
   "name": "python",
   "nbconvert_exporter": "python",
   "pygments_lexer": "ipython3",
   "version": "3.6.7"
  }
 },
 "nbformat": 4,
 "nbformat_minor": 2
}
